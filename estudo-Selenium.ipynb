{
 "cells": [
  {
   "cell_type": "markdown",
   "metadata": {},
   "source": [
    "# Web Scraping com Selenium\n",
    "**O que é?** \\\n",
    "Biblioteca em Python voltada simular interações de usuário em páginas web"
   ]
  },
  {
   "cell_type": "code",
   "execution_count": 1,
   "metadata": {},
   "outputs": [
    {
     "name": "stdout",
     "output_type": "stream",
     "text": [
      "Collecting selenium\n",
      "  Downloading selenium-4.21.0-py3-none-any.whl.metadata (6.9 kB)\n",
      "Requirement already satisfied: urllib3<3,>=1.26 in c:\\users\\tayan\\appdata\\local\\programs\\python\\python311\\lib\\site-packages (from urllib3[socks]<3,>=1.26->selenium) (1.26.15)\n",
      "Collecting trio~=0.17 (from selenium)\n",
      "  Downloading trio-0.25.1-py3-none-any.whl.metadata (8.7 kB)\n",
      "Collecting trio-websocket~=0.9 (from selenium)\n",
      "  Downloading trio_websocket-0.11.1-py3-none-any.whl.metadata (4.7 kB)\n",
      "Requirement already satisfied: certifi>=2021.10.8 in c:\\users\\tayan\\appdata\\local\\programs\\python\\python311\\lib\\site-packages (from selenium) (2022.12.7)\n",
      "Collecting typing_extensions>=4.9.0 (from selenium)\n",
      "  Downloading typing_extensions-4.12.2-py3-none-any.whl.metadata (3.0 kB)\n",
      "Requirement already satisfied: attrs>=23.2.0 in c:\\users\\tayan\\appdata\\local\\programs\\python\\python311\\lib\\site-packages (from trio~=0.17->selenium) (23.2.0)\n",
      "Collecting sortedcontainers (from trio~=0.17->selenium)\n",
      "  Downloading sortedcontainers-2.4.0-py2.py3-none-any.whl.metadata (10 kB)\n",
      "Requirement already satisfied: idna in c:\\users\\tayan\\appdata\\local\\programs\\python\\python311\\lib\\site-packages (from trio~=0.17->selenium) (3.4)\n",
      "Collecting outcome (from trio~=0.17->selenium)\n",
      "  Downloading outcome-1.3.0.post0-py2.py3-none-any.whl.metadata (2.6 kB)\n",
      "Collecting sniffio>=1.3.0 (from trio~=0.17->selenium)\n",
      "  Downloading sniffio-1.3.1-py3-none-any.whl.metadata (3.9 kB)\n",
      "Collecting cffi>=1.14 (from trio~=0.17->selenium)\n",
      "  Downloading cffi-1.16.0-cp311-cp311-win_amd64.whl.metadata (1.5 kB)\n",
      "Collecting wsproto>=0.14 (from trio-websocket~=0.9->selenium)\n",
      "  Downloading wsproto-1.2.0-py3-none-any.whl.metadata (5.6 kB)\n",
      "Collecting PySocks!=1.5.7,<2.0,>=1.5.6 (from urllib3[socks]<3,>=1.26->selenium)\n",
      "  Downloading PySocks-1.7.1-py3-none-any.whl.metadata (13 kB)\n",
      "Collecting pycparser (from cffi>=1.14->trio~=0.17->selenium)\n",
      "  Downloading pycparser-2.22-py3-none-any.whl.metadata (943 bytes)\n",
      "Collecting h11<1,>=0.9.0 (from wsproto>=0.14->trio-websocket~=0.9->selenium)\n",
      "  Downloading h11-0.14.0-py3-none-any.whl.metadata (8.2 kB)\n",
      "Downloading selenium-4.21.0-py3-none-any.whl (9.5 MB)\n",
      "   ---------------------------------------- 0.0/9.5 MB ? eta -:--:--\n",
      "   ------------------- -------------------- 4.7/9.5 MB 151.3 MB/s eta 0:00:01\n",
      "   ----------------------------------- ---- 8.4/9.5 MB 107.9 MB/s eta 0:00:01\n",
      "   ---------------------------------------- 9.5/9.5 MB 86.7 MB/s eta 0:00:00\n",
      "Downloading trio-0.25.1-py3-none-any.whl (467 kB)\n",
      "   ---------------------------------------- 0.0/467.7 kB ? eta -:--:--\n",
      "   ---------------------------------------- 467.7/467.7 kB ? eta 0:00:00\n",
      "Downloading trio_websocket-0.11.1-py3-none-any.whl (17 kB)\n",
      "Downloading typing_extensions-4.12.2-py3-none-any.whl (37 kB)\n",
      "Downloading cffi-1.16.0-cp311-cp311-win_amd64.whl (181 kB)\n",
      "   ---------------------------------------- 0.0/181.5 kB ? eta -:--:--\n",
      "   ---------------------------------------- 181.5/181.5 kB ? eta 0:00:00\n",
      "Downloading PySocks-1.7.1-py3-none-any.whl (16 kB)\n",
      "Downloading sniffio-1.3.1-py3-none-any.whl (10 kB)\n",
      "Downloading wsproto-1.2.0-py3-none-any.whl (24 kB)\n",
      "Downloading outcome-1.3.0.post0-py2.py3-none-any.whl (10 kB)\n",
      "Downloading sortedcontainers-2.4.0-py2.py3-none-any.whl (29 kB)\n",
      "Downloading h11-0.14.0-py3-none-any.whl (58 kB)\n",
      "   ---------------------------------------- 0.0/58.3 kB ? eta -:--:--\n",
      "   ---------------------------------------- 58.3/58.3 kB ? eta 0:00:00\n",
      "Downloading pycparser-2.22-py3-none-any.whl (117 kB)\n",
      "   ---------------------------------------- 0.0/117.6 kB ? eta -:--:--\n",
      "   ---------------------------------------- 117.6/117.6 kB ? eta 0:00:00\n",
      "Installing collected packages: sortedcontainers, typing_extensions, sniffio, PySocks, pycparser, outcome, h11, wsproto, cffi, trio, trio-websocket, selenium\n",
      "Successfully installed PySocks-1.7.1 cffi-1.16.0 h11-0.14.0 outcome-1.3.0.post0 pycparser-2.22 selenium-4.21.0 sniffio-1.3.1 sortedcontainers-2.4.0 trio-0.25.1 trio-websocket-0.11.1 typing_extensions-4.12.2 wsproto-1.2.0\n"
     ]
    },
    {
     "name": "stderr",
     "output_type": "stream",
     "text": [
      "'apt-get' n�o � reconhecido como um comando interno\n",
      "ou externo, um programa oper�vel ou um arquivo em lotes.\n",
      "'apt-get' n�o � reconhecido como um comando interno\n",
      "ou externo, um programa oper�vel ou um arquivo em lotes.\n",
      "'cp' n�o � reconhecido como um comando interno\n",
      "ou externo, um programa oper�vel ou um arquivo em lotes.\n",
      "'chmod' n�o � reconhecido como um comando interno\n",
      "ou externo, um programa oper�vel ou um arquivo em lotes.\n"
     ]
    }
   ],
   "source": [
    "!pip install selenium\n",
    "!apt-get update\n",
    "!apt-get install -y chromium-chromedriver\n",
    "!cp /usr/lib/chromium-browser/chromedriver /usr/bin/chromedriver\n",
    "!chmod +x /usr/bin/chromedriver"
   ]
  },
  {
   "cell_type": "markdown",
   "metadata": {},
   "source": [
    "# Quando utilizar?\n",
    "* Interagir\n",
    "* Localizar\n",
    "* Extrair"
   ]
  },
  {
   "cell_type": "code",
   "execution_count": 3,
   "metadata": {},
   "outputs": [],
   "source": [
    "from selenium import webdriver\n",
    "\n",
    "\n",
    "driver = webdriver.Chrome()\n",
    "\n",
    "driver.get(\"http://selenium.dev\")\n",
    "\n",
    "driver.quit()"
   ]
  },
  {
   "cell_type": "markdown",
   "metadata": {},
   "source": [
    "# Como localizar e interagir com elementos web com Selenium\n",
    "Uma parte fundamental do Selenium é a capacidade de localizar elementos em uma página da web para interagir com eles. \\\n",
    "\n",
    "**Como localizar?**  \n",
    "* Localização por ID\n",
    "* Localização por Nome\n",
    "* Localização por Classe\n",
    "* Localização por XPath\n",
    "* Localização por Seletor CSS\n",
    "\n",
    "**Métodos:**  \n",
    "* Antigo:  \n",
    "driver.find_element_by_*\n",
    "\n",
    "* Atual:  \n",
    "driver.find_element"
   ]
  },
  {
   "cell_type": "markdown",
   "metadata": {},
   "source": [
    "# Exemplo\n",
    "\n",
    "Encontrar os telefones disponiveis nesse site: \\\n",
    "https://webscraper.io/test-sites/e-commerce/allinone/phones"
   ]
  },
  {
   "cell_type": "code",
   "execution_count": 6,
   "metadata": {},
   "outputs": [
    {
     "data": {
      "text/plain": [
       "<selenium.webdriver.remote.webelement.WebElement (session=\"97cee1130fdb11e0688c1fafe737448d\", element=\"f.53474A414D88733B1412C2D50D2FF74D.d.EF2BFF03366B05F3DF6B0BDA7742791B.e.26\")>"
      ]
     },
     "execution_count": 6,
     "metadata": {},
     "output_type": "execute_result"
    }
   ],
   "source": [
    "from selenium import webdriver\n",
    "from selenium.webdriver.common.by import By\n",
    "\n",
    "driver = webdriver.Chrome() \n",
    "driver.get(\"https://webscraper.io/test-sites/e-commerce/allinone/phones\")\n",
    "\n",
    "driver.find_element(By.CLASS_NAME, \"title\")"
   ]
  },
  {
   "cell_type": "code",
   "execution_count": 7,
   "metadata": {},
   "outputs": [
    {
     "name": "stdout",
     "output_type": "stream",
     "text": [
      "Sony Xperia\n",
      "Samsung Galaxy\n",
      "Ubuntu Edge\n"
     ]
    }
   ],
   "source": [
    "lista_telefones = driver.find_elements(By.CLASS_NAME, \"title\")\n",
    "\n",
    "for item in lista_telefones:\n",
    "    print(item.text)"
   ]
  },
  {
   "cell_type": "markdown",
   "metadata": {},
   "source": [
    "### **Como interagir?**\n",
    "\n",
    "- #### send_keys\n",
    "- #### click\n",
    "- #### select\n",
    "- #### submit"
   ]
  },
  {
   "cell_type": "markdown",
   "metadata": {},
   "source": [
    "### Exemplo\n",
    "\n",
    "Encontrar os computadores disponiveis nesse site: \\\n",
    "https://webscraper.io/test-sites/e-commerce/allinone/phones"
   ]
  },
  {
   "cell_type": "code",
   "execution_count": 11,
   "metadata": {},
   "outputs": [],
   "source": [
    "driver = webdriver.Chrome()  #Para utilizar no vscode retirar comentário\n",
    "driver.get(\"https://webscraper.io/test-sites/e-commerce/allinone/phones\")\n",
    "\n",
    "computadores = driver.find_element(By.XPATH,'//*[@id=\"side-menu\"]/li[2]/a')\n",
    "\n",
    "computadores.click()"
   ]
  },
  {
   "cell_type": "markdown",
   "metadata": {},
   "source": [
    "### Explorando as capacidades de automação de interações\n",
    "\n",
    "#### Live coding https://quotes.toscrape.com/\n",
    "\n",
    "- #### login\n",
    "- #### filtro\n",
    "- #### paginação\n",
    "- #### localizar elemento"
   ]
  },
  {
   "cell_type": "code",
   "execution_count": 12,
   "metadata": {},
   "outputs": [],
   "source": [
    "from selenium import webdriver\n",
    "from selenium.webdriver.common.by import By\n",
    "\n",
    "driver = webdriver.Chrome()\n",
    "driver.get(\"https://quotes.toscrape.com/\")\n",
    "\n",
    "#login\n",
    "login_button = driver.find_element(By.XPATH,'/html/body/div/div[1]/div[2]/p/a')\n",
    "login_button.click()\n",
    "username = driver.find_element(By.XPATH,'//*[@id=\"username\"]')\n",
    "username.send_keys(\"admin\")\n",
    "password = driver.find_element(By.XPATH, '//*[@id=\"password\"]')\n",
    "password.send_keys(\"admin\")\n",
    "login_button2 = driver.find_element(By.XPATH,'/html/body/div/form/input[2]')\n",
    "login_button2.click()\n",
    "\n",
    "#interacao na pagina\n",
    "tag_humor = driver.find_element(By.XPATH, '/html/body/div/div[2]/div[2]/span[4]/a')\n",
    "tag_humor.click()\n",
    "next = driver.find_element(By.XPATH,'/html/body/div/div[2]/div[1]/nav/ul/li/a')\n",
    "next.click()\n",
    "quote = driver.find_element(By.CLASS_NAME,\"quote\").text"
   ]
  },
  {
   "cell_type": "markdown",
   "metadata": {},
   "source": [
    "## Temas avançados com Selenium\n",
    "\n",
    "- #### Cookies personalizados\n",
    "- #### Requisões Ajax\n",
    "- #### Lazy Load\n",
    "- #### Carregamento condicionado\n",
    "- #### Timeout"
   ]
  },
  {
   "cell_type": "markdown",
   "metadata": {},
   "source": [
    "### Cookies personalizados:\n",
    "\n",
    "```\n",
    "cookie = {'name' : 'cookie_teste', 'value' : 'teste'}\n",
    "driver.add_cookie(cookie)\n",
    "driver.get_cookies()\n",
    "```"
   ]
  },
  {
   "cell_type": "code",
   "execution_count": 14,
   "metadata": {},
   "outputs": [
    {
     "data": {
      "text/plain": [
       "[{'domain': 'www.selenium.dev',\n",
       "  'httpOnly': False,\n",
       "  'name': 'cookie_teste',\n",
       "  'path': '/',\n",
       "  'sameSite': 'Lax',\n",
       "  'secure': True,\n",
       "  'value': 'teste'}]"
      ]
     },
     "execution_count": 14,
     "metadata": {},
     "output_type": "execute_result"
    }
   ],
   "source": [
    "from selenium import webdriver\n",
    "from selenium.webdriver.common.by import By\n",
    "\n",
    "driver = webdriver.Chrome()\n",
    "\n",
    "driver.get(\"http://selenium.dev\")\n",
    "cookie = {'name' : 'cookie_teste', 'value' : 'teste'}\n",
    "driver.add_cookie(cookie)\n",
    "driver.get_cookies()"
   ]
  },
  {
   "cell_type": "markdown",
   "metadata": {},
   "source": [
    "### Requisições Ajax e Lazy Load:\n",
    "https://www.scrapethissite.com/pages/ajax-javascript/#2013\n",
    "\n",
    "\n",
    "- #### Espera explicita:\n",
    "\n",
    "``` bash\n",
    "from selenium.webdriver.common.by import By\n",
    "from selenium.webdriver.support.ui import WebDriverWait\n",
    "from selenium.webdriver.support import expected_conditions as EC\n",
    "\n",
    "\n",
    "# Aguardar até que o elemento esteja clicável, max 10 segundos\n",
    "elemento = WebDriverWait(driver, 10).until(\n",
    "    EC.element_to_be_clickable((By.ID, \"elemento\"))\n",
    ")\n",
    "```\n",
    "\n",
    "- #### Espera implicita\n",
    "``` bash\n",
    "```\n",
    "``` bash\n",
    "# Inicialização do WebDriver com espera implícita de 10 segundos\n",
    "driver = webdriver.Chrome()\n",
    "driver.implicitly_wait(10)  # Espera implícita de 10 segundos\n",
    "```"
   ]
  },
  {
   "cell_type": "markdown",
   "metadata": {},
   "source": [
    "Carregamento condicionado:\n",
    "Scroll:\n",
    "from selenium.webdriver import ActionChains\n",
    "\n",
    "# scrollar até um elemento\n",
    "iframe = driver.find_element(By.TAG_NAME, \"iframe\")\n",
    "ActionChains(driver)\\\n",
    "        .scroll_to_element(iframe)\\\n",
    "        .perform()\n",
    "\n",
    "# scrollar quantidade especifica\n",
    "\n",
    "ActionChains(driver)\\\n",
    "        .scroll_by_amount(0, delta_y)\\\n",
    "        .perform()"
   ]
  },
  {
   "cell_type": "markdown",
   "metadata": {},
   "source": [
    "### Carregamento condicionado:\n",
    "\n",
    "\n",
    "- #### Scroll:\n",
    "\n",
    "```\n",
    "from selenium.webdriver import ActionChains\n",
    "\n",
    "#scrollar até um elemento\n",
    "iframe = driver.find_element(By.TAG_NAME, \"iframe\")\n",
    "ActionChains(driver)\\\n",
    "        .scroll_to_element(iframe)\\\n",
    "        .perform()\n",
    "\n",
    "#scrollar quantidade especifica\n",
    "\n",
    "ActionChains(driver)\\\n",
    "        .scroll_by_amount(0, delta_y)\\\n",
    "        .perform()\n",
    "\n",
    "\n",
    "```\n",
    "\n",
    "- #### Hover\n",
    "\n",
    "```\n",
    "from selenium.webdriver import ActionChains\n",
    "\n",
    "\n",
    "hoverable = driver.find_element(By.ID, \"hover\")\n",
    "ActionChains(driver)\\\n",
    "        .move_to_element(hoverable)\\\n",
    "        .perform()\n",
    "```"
   ]
  },
  {
   "cell_type": "markdown",
   "metadata": {},
   "source": [
    "### Timeout:\n",
    "\n",
    "```\n",
    "# Definindo o tempo máximo de espera para o carregamento da página (em segundos)\n",
    "driver.set_page_load_timeout(10)  # Definindo um timeout de 10 segundos\n",
    "\n",
    "try:\n",
    "    # Tentativa de acessar uma página que levará mais tempo para carregar\n",
    "    driver.get(\"https://www.exemplo.com/paginalenta\")\n",
    "    \n",
    "    # Se a página carregar dentro do tempo limite, podemos continuar com as operações\n",
    "    print(\"Página carregada com sucesso!\")\n",
    "\n",
    "except TimeoutException:\n",
    "    # Se a página não carregar dentro do tempo limite, será lançada uma exceção\n",
    "    print(\"Timeout: A página não pôde ser carregada dentro do tempo limite.\")\n",
    "\n",
    "```"
   ]
  },
  {
   "cell_type": "markdown",
   "metadata": {},
   "source": [
    "## Utilizando Pandas no Web Scraping\n",
    "\n",
    "#### Pandas é uma biblioteca voltada para manipulação de dados em formato tabular, mas que pode ajudar em algumas situações de web scraping"
   ]
  },
  {
   "cell_type": "markdown",
   "metadata": {},
   "source": [
    "### Método read_html()\n",
    "\n",
    "- #### Acessa uma página determinada\n",
    "- #### Encontra todos objetos do tipo table\n",
    "- #### Converte em dataframes pandas\n"
   ]
  },
  {
   "cell_type": "markdown",
   "metadata": {},
   "source": [
    "### Exemplo\n",
    "\n",
    "https://webscraper.io/test-sites/tables/tables-semantically-correct"
   ]
  },
  {
   "cell_type": "code",
   "execution_count": 15,
   "metadata": {},
   "outputs": [],
   "source": [
    "import pandas as pd\n",
    "\n",
    "dfs = pd.read_html(\"https://webscraper.io/test-sites/tables/tables-semantically-correct\")"
   ]
  },
  {
   "cell_type": "code",
   "execution_count": 16,
   "metadata": {},
   "outputs": [
    {
     "data": {
      "text/plain": [
       "[   # First Name Last Name  Username\n",
       " 0  1       Mark      Otto      @mdo\n",
       " 1  2      Jacob  Thornton      @fat\n",
       " 2  3      Larry  the Bird  @twitter,\n",
       "    # First Name Last Name  Username\n",
       " 0  4      Harry    Potter       @hp\n",
       " 1  5       John      Snow    @dunno\n",
       " 2  6        Tim      Bean  @timbean]"
      ]
     },
     "execution_count": 16,
     "metadata": {},
     "output_type": "execute_result"
    }
   ],
   "source": [
    "dfs"
   ]
  },
  {
   "cell_type": "code",
   "execution_count": 17,
   "metadata": {},
   "outputs": [
    {
     "data": {
      "text/html": [
       "<div>\n",
       "<style scoped>\n",
       "    .dataframe tbody tr th:only-of-type {\n",
       "        vertical-align: middle;\n",
       "    }\n",
       "\n",
       "    .dataframe tbody tr th {\n",
       "        vertical-align: top;\n",
       "    }\n",
       "\n",
       "    .dataframe thead th {\n",
       "        text-align: right;\n",
       "    }\n",
       "</style>\n",
       "<table border=\"1\" class=\"dataframe\">\n",
       "  <thead>\n",
       "    <tr style=\"text-align: right;\">\n",
       "      <th></th>\n",
       "      <th>#</th>\n",
       "    </tr>\n",
       "  </thead>\n",
       "  <tbody>\n",
       "    <tr>\n",
       "      <th>count</th>\n",
       "      <td>3.0</td>\n",
       "    </tr>\n",
       "    <tr>\n",
       "      <th>mean</th>\n",
       "      <td>2.0</td>\n",
       "    </tr>\n",
       "    <tr>\n",
       "      <th>std</th>\n",
       "      <td>1.0</td>\n",
       "    </tr>\n",
       "    <tr>\n",
       "      <th>min</th>\n",
       "      <td>1.0</td>\n",
       "    </tr>\n",
       "    <tr>\n",
       "      <th>25%</th>\n",
       "      <td>1.5</td>\n",
       "    </tr>\n",
       "    <tr>\n",
       "      <th>50%</th>\n",
       "      <td>2.0</td>\n",
       "    </tr>\n",
       "    <tr>\n",
       "      <th>75%</th>\n",
       "      <td>2.5</td>\n",
       "    </tr>\n",
       "    <tr>\n",
       "      <th>max</th>\n",
       "      <td>3.0</td>\n",
       "    </tr>\n",
       "  </tbody>\n",
       "</table>\n",
       "</div>"
      ],
      "text/plain": [
       "         #\n",
       "count  3.0\n",
       "mean   2.0\n",
       "std    1.0\n",
       "min    1.0\n",
       "25%    1.5\n",
       "50%    2.0\n",
       "75%    2.5\n",
       "max    3.0"
      ]
     },
     "execution_count": 17,
     "metadata": {},
     "output_type": "execute_result"
    }
   ],
   "source": [
    "dfs[0].describe()"
   ]
  }
 ],
 "metadata": {
  "kernelspec": {
   "display_name": "Python 3",
   "language": "python",
   "name": "python3"
  },
  "language_info": {
   "codemirror_mode": {
    "name": "ipython",
    "version": 3
   },
   "file_extension": ".py",
   "mimetype": "text/x-python",
   "name": "python",
   "nbconvert_exporter": "python",
   "pygments_lexer": "ipython3",
   "version": "3.11.2"
  }
 },
 "nbformat": 4,
 "nbformat_minor": 2
}
